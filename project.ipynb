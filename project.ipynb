{
 "cells": [
  {
   "attachments": {},
   "cell_type": "markdown",
   "id": "innocent-university",
   "metadata": {},
   "source": [
    "# Real Estate Clean up\n",
    "\n",
    "This is a real dataset, and it was downloaded using web scraping techniques. The data contains registers from **Fotocasa** which is one of the most popular real estate websites in Spain. Please, do not do this (web scraping) unless it is for academic purposes.\n",
    "\n",
    "The dataset was downloaded a few years ago by Henry Navarro, and in no case were economic returns obtained from it.\n",
    "\n",
    "It contains thousands of data from real houses published on the web www.fotocasa.com. Your goal is to extract as much information as possible with the knowledge you have so far about data science, for example what is the most expensive house in the entire dataset?\n",
    "\n",
    "Let's start with precisely that question... Good luck!"
   ]
  },
  {
   "attachments": {},
   "cell_type": "markdown",
   "id": "multiple-glass",
   "metadata": {},
   "source": [
    "#### Exercise 00. Read the dataset assets/real_estate.csv and try to visualize the table (★☆☆)"
   ]
  },
  {
   "cell_type": "code",
   "execution_count": 55,
   "id": "frank-heath",
   "metadata": {},
   "outputs": [],
   "source": [
    "import pandas as pd\n",
    "import numpy as np \n",
    "\n",
    "# This CSV file contains semicolons instead of comas as separator\n",
    "ds = pd.read_csv('assets/real_estate.csv', sep=';')\n",
    "ds = ds.head().transpose()"
   ]
  },
  {
   "attachments": {},
   "cell_type": "markdown",
   "id": "latin-guest",
   "metadata": {},
   "source": [
    "#### Exercise 01. Which is the most expensive house in the dataset? (★☆☆)\n",
    "\n",
    "Print the address and the price of the selected house. For example:\n",
    "\n",
    "`The house with address General Street Nº5 is the most expensive and its price is 5000000 USD`"
   ]
  },
  {
   "cell_type": "code",
   "execution_count": 23,
   "id": "developing-optimum",
   "metadata": {},
   "outputs": [
    {
     "name": "stdout",
     "output_type": "stream",
     "text": [
      "The house with the address El Escorial is the most expensive and its price is 8500000 USD\n"
     ]
    }
   ],
   "source": [
    "import pandas as pd\n",
    "\n",
    "ds = pd.read_csv('assets/real_estate.csv', sep=';') \n",
    "\n",
    "most_expensive_house = ds[ds['price'] == ds['price'].max()]\n",
    "\n",
    "if not most_expensive_house.empty:\n",
    "    address = most_expensive_house['address'].values[0]\n",
    "    price = most_expensive_house['price'].values[0]\n",
    "    print(f\"The house with the address {address} is the most expensive and its price is {price} USD\")\n"
   ]
  },
  {
   "attachments": {},
   "cell_type": "markdown",
   "id": "lesser-cosmetic",
   "metadata": {},
   "source": [
    "#### Exercise 02. Which is the cheapest house in the dataset? (★☆☆)\n",
    "\n",
    "Print the address and the price of the selected house. For example:\n",
    "\n",
    "`The house with address Concrete Street Nº1 is the cheapest and its price is 12000 USD`"
   ]
  },
  {
   "cell_type": "code",
   "execution_count": 24,
   "id": "lovely-oasis",
   "metadata": {},
   "outputs": [
    {
     "name": "stdout",
     "output_type": "stream",
     "text": [
      "The house with the address Parla is the cheapest and its price is 0 USD\n"
     ]
    }
   ],
   "source": [
    "ds = pd.read_csv('assets/real_estate.csv', sep=';')\n",
    "\n",
    "cheapest_house = ds[ds['price'] == ds['price'].min()]\n",
    "\n",
    "if not cheapest_house.empty:\n",
    "    address = cheapest_house['address'].values[0]\n",
    "    price = cheapest_house['price'].values[0]\n",
    "    print(f\"The house with the address {address} is the cheapest and its price is {price} USD\")\n"
   ]
  },
  {
   "attachments": {},
   "cell_type": "markdown",
   "id": "compliant-fellowship",
   "metadata": {},
   "source": [
    "#### Exercise 03. Which is the biggest and the smallest house in the dataset? (★☆☆)\n",
    "\n",
    "Print both the address and the surface of the selected houses. For example:\n",
    "\n",
    "`The biggest house is located on Yukka Street Nº10 and its surface is 5000 meters`\n",
    "\n",
    "`The smallest house is located on County Road 1 N and its surface is 200 meters`"
   ]
  },
  {
   "cell_type": "code",
   "execution_count": 25,
   "id": "every-tiffany",
   "metadata": {},
   "outputs": [
    {
     "name": "stdout",
     "output_type": "stream",
     "text": [
      "The biggest house is located on Sevilla la Nueva and its surface is 249000.0 meters.\n",
      "The smallest house is located on Calle Amparo,  Madrid Capital and its surface is 15.0 meters.\n"
     ]
    }
   ],
   "source": [
    "import pandas as pd\n",
    "\n",
    "ds = pd.read_csv('assets/real_estate.csv', sep=';')\n",
    "\n",
    "biggest_house = ds[ds['surface'] == ds['surface'].max()]\n",
    "smallest_house = ds[ds['surface'] == ds['surface'].min()]\n",
    "\n",
    "if not biggest_house.empty:\n",
    "    biggest_address = biggest_house['address'].values[0]\n",
    "    biggest_surface = biggest_house['surface'].values[0]\n",
    "    print(f\"The biggest house is located on {biggest_address} and its surface is {biggest_surface} meters.\")\n",
    "else:\n",
    "    print(\"No data found for the biggest house.\")\n",
    "\n",
    "if not smallest_house.empty:\n",
    "    smallest_address = smallest_house['address'].values[0]\n",
    "    smallest_surface = smallest_house['surface'].values[0]\n",
    "    print(f\"The smallest house is located on {smallest_address} and its surface is {smallest_surface} meters.\")\n",
    "else:\n",
    "    print(\"No data found for the smallest house.\")"
   ]
  },
  {
   "attachments": {},
   "cell_type": "markdown",
   "id": "danish-spirit",
   "metadata": {},
   "source": [
    "#### Exercise 04. How many populations (level5 column) the dataset contains? (★☆☆)\n",
    "\n",
    "Print the names of the populations with a comma as a separator. For example:\n",
    "\n",
    "`> print(populations)`\n",
    "\n",
    "`population1, population2, population3, ...`"
   ]
  },
  {
   "cell_type": "code",
   "execution_count": 26,
   "id": "exciting-accreditation",
   "metadata": {},
   "outputs": [
    {
     "name": "stdout",
     "output_type": "stream",
     "text": [
      "Arganda del Rey, Zona de, Fuenlabrada, Zona de, Boadilla del Monte, Zona de, Las Rozas de Madrid, Zona de, nan, Villaviciosa de Odón, Zona de, Pinto, Zona de, Valdemoro, Zona de, Navalcarnero, Zona de, Pozuelo de Alarcón, Zona de, Torrejón de Ardoz, Zona de, Resto A5, San Sebastián de los Reyes, Zona de, Rivas-Vaciamadrid, Zona de, Alpedrete, Zona de, Móstoles, Zona de, San Fernando de Henares, Zona de, Coslada, Zona de, Collado Mediano, Zona de, Alcalá de Henares, Zona de, Perales de Tajuña, Zona de, Parla, Zona de, Alcorcón, Zona de, El Escorial, Zona de, Leganés, Zona de, Pedrezuela, Zona de, Majadahonda, Zona de, Villanueva de la Cañada, Zona de, Villanueva del Pardillo, Zona de, Torrelodones, Zona de, Moralzarzal, Zona de, Mejorada del Campo, Zona de, Aranjuez, Zona de, Villalbilla, Zona de, Getafe, Zona de, Velilla de San Antonio, Zona de, Sevilla la Nueva, Zona de, San Martín de la Vega, Zona de, Collado Villalba, Zona de, Alcobendas, Zona de, El Molar, Zona de, Resto poblaciones A4, Algete, Zona de, Colmenar Viejo, Zona de, Valdemorillo, Zona de, Fuente El Saz de Jarama, Zona de, Tres Cantos, Zona de, Arroyomolinos, Zona de, Griñón, Zona de, Paracuellos de Jarama, Zona de, Guadarrama, Zona de, Titulcia, Zona de, Galapagar, Zona de, Navacerrada, Zona de, San Lorenzo del Escorial, Zona de, Loeches, Zona de, La Cabrera, Zona de, Manzanares El Real, Zona de, Guadalix de la Sierra, Zona de, Humanes, Zona de, San Agustín de Guadalix, Zona de, Ciempozuelos, Zona de, Camarma de Esteruelas, Zona de, La Sierra Norte, Zona de, Hoyo de Manzanares, Zona de, Cerceda, Zona de, El Álamo, Zona de, Brunete, Zona de, Torrelaguna, Zona de, Meco, Zona de, Daganzo de Arriba, Zona de, Los Santos, Zona de, Ajalvir, Zona de, Valdeavero, Zona de, Ribatejada, Zona de, Colmenarejo, Zona de, Cobeña, Zona de, Fresno de Torote, Zona de\n"
     ]
    }
   ],
   "source": [
    "import pandas as pd\n",
    "\n",
    "ds = pd.read_csv('assets/real_estate.csv', sep=';')\n",
    "\n",
    "unique_values = ds.iloc[:, 17].unique()\n",
    "\n",
    "unique_values_str = ', '.join(map(str, unique_values))\n",
    "\n",
    "print(unique_values_str)\n"
   ]
  },
  {
   "attachments": {},
   "cell_type": "markdown",
   "id": "crazy-blame",
   "metadata": {},
   "source": [
    "#### Exercise 05. Does the dataset contain NAs? (★☆☆)\n",
    "\n",
    "Print a boolean value (`True` or `False`) followed by the rows/cols that contains NAs."
   ]
  },
  {
   "cell_type": "code",
   "execution_count": 27,
   "id": "transparent-poetry",
   "metadata": {},
   "outputs": [
    {
     "name": "stdout",
     "output_type": "stream",
     "text": [
      "Dataset contains NAs: True\n",
      "\n",
      "Columns with NAs:\n",
      "Index(['realEstate_name', 'phone_realEstate', 'rooms', 'bathrooms', 'surface',\n",
      "       'description', 'level4', 'level6', 'level7', 'level8', 'zipCode',\n",
      "       'customZone'],\n",
      "      dtype='object')\n",
      "\n",
      "Rows with NAs:\n",
      "       Unnamed: 0  id_realEstates  isNew                    realEstate_name  \\\n",
      "0               1       153771986  False            ferrari 57 inmobiliaria   \n",
      "1               2       153867863  False  tecnocasa fuenlabrada ferrocarril   \n",
      "2               3       153430440  False                 look find boadilla   \n",
      "3               4       152776331  False  tecnocasa fuenlabrada ferrocarril   \n",
      "4               5       153180188  False            ferrari 57 inmobiliaria   \n",
      "...           ...             ...    ...                                ...   \n",
      "15330       15331       153901377  False                infocasa consulting   \n",
      "15331       15332       150394373  False                inmobiliaria pulpon   \n",
      "15332       15333       153901397  False             tecnocasa torrelodones   \n",
      "15333       15334       152607440  False                inmobiliaria pulpon   \n",
      "15334       15335       153901356  False                infocasa consulting   \n",
      "\n",
      "       phone_realEstate                                       url_inmueble  \\\n",
      "0           912177526.0  https://www.fotocasa.es/es/comprar/vivienda/ma...   \n",
      "1           916358736.0  https://www.fotocasa.es/es/comprar/vivienda/ma...   \n",
      "2           916350408.0  https://www.fotocasa.es/es/comprar/vivienda/ma...   \n",
      "3           916358736.0  https://www.fotocasa.es/es/comprar/vivienda/ma...   \n",
      "4           912177526.0  https://www.fotocasa.es/es/comprar/vivienda/ma...   \n",
      "...                 ...                                                ...   \n",
      "15330       911360461.0  https://www.fotocasa.es/es/comprar/vivienda/ma...   \n",
      "15331       912788039.0  https://www.fotocasa.es/es/comprar/vivienda/ma...   \n",
      "15332       912780348.0  https://www.fotocasa.es/es/comprar/vivienda/ma...   \n",
      "15333       912788039.0  https://www.fotocasa.es/es/comprar/vivienda/ma...   \n",
      "15334       911360461.0  https://www.fotocasa.es/es/comprar/vivienda/ma...   \n",
      "\n",
      "       rooms  bathrooms  surface   price  ... level4Id level5Id level6Id  \\\n",
      "0        3.0        2.0    103.0  195000  ...        0        0        0   \n",
      "1        3.0        1.0      NaN   89000  ...        0        0        0   \n",
      "2        2.0        2.0     99.0  390000  ...        0        0        0   \n",
      "3        3.0        1.0     86.0   89000  ...        0        0        0   \n",
      "4        2.0        2.0    106.0  172000  ...        0        0        0   \n",
      "...      ...        ...      ...     ...  ...      ...      ...      ...   \n",
      "15330    2.0        1.0     96.0  259470  ...        0        0        0   \n",
      "15331    3.0        1.0    150.0  165000  ...        0        0        0   \n",
      "15332    4.0        2.0    175.0  495000  ...        0        0        0   \n",
      "15333    3.0        2.0    101.0  195000  ...        0        0        0   \n",
      "15334    3.0        2.0    152.0  765000  ...        0        0        0   \n",
      "\n",
      "      level7Id level8Id accuracy          latitude          longitude zipCode  \\\n",
      "0            0        0        0  40,2948276786438  -3,44402412135624     NaN   \n",
      "1            0        0        1          40,28674           -3,79351     NaN   \n",
      "2            0        0        0  40,4115646786438  -3,90662252135624     NaN   \n",
      "3            0        0        0  40,2853785786438  -3,79508142135624     NaN   \n",
      "4            0        0        0  40,2998774864376  -3,45226301356237     NaN   \n",
      "...        ...      ...      ...               ...                ...     ...   \n",
      "15330        0        0        0          40,45416           -3,70286     NaN   \n",
      "15331        0        0        0          40,36652           -3,48951     NaN   \n",
      "15332        0        0        0          40,57444           -3,92124     NaN   \n",
      "15333        0        0        0          40,36967           -3,48105     NaN   \n",
      "15334        0        0        0          40,45773           -3,69068     NaN   \n",
      "\n",
      "      customZone  \n",
      "0            NaN  \n",
      "1            NaN  \n",
      "2            NaN  \n",
      "3            NaN  \n",
      "4            NaN  \n",
      "...          ...  \n",
      "15330        NaN  \n",
      "15331        NaN  \n",
      "15332        NaN  \n",
      "15333        NaN  \n",
      "15334        NaN  \n",
      "\n",
      "[15335 rows x 37 columns]\n"
     ]
    }
   ],
   "source": [
    "import pandas as pd\n",
    "\n",
    "ds = pd.read_csv('assets/real_estate.csv', sep=';')\n",
    "\n",
    "has_na = ds.isnull().any().any()\n",
    "\n",
    "print(f\"Dataset contains NAs: {has_na}\")\n",
    "\n",
    "if has_na:\n",
    "    print(\"\\nColumns with NAs:\")\n",
    "    print(ds.columns[ds.isnull().any()])\n",
    "\n",
    "    print(\"\\nRows with NAs:\")\n",
    "    print(ds[ds.isnull().any(axis=1)])\n"
   ]
  },
  {
   "attachments": {},
   "cell_type": "markdown",
   "id": "italic-hydrogen",
   "metadata": {},
   "source": [
    "#### Exercise 06. Delete the NAs of the dataset, if applicable (★★☆)\n",
    "\n",
    "Print a comparison between the dimensions of the original DataFrame versus the DataFrame after the deletions."
   ]
  },
  {
   "cell_type": "code",
   "execution_count": 28,
   "id": "administrative-roads",
   "metadata": {},
   "outputs": [
    {
     "name": "stdout",
     "output_type": "stream",
     "text": [
      "Original DataFrame shape: (15335, 37)\n",
      "DataFrame shape after deleting NAs: (0, 37)\n"
     ]
    }
   ],
   "source": [
    "import pandas as pd\n",
    "\n",
    "ds = pd.read_csv('assets/real_estate.csv', sep=';')\n",
    "\n",
    "original_shape = ds.shape\n",
    "\n",
    "ds_clean = ds.dropna()\n",
    "\n",
    "print(\"Original DataFrame shape:\", original_shape)\n",
    "print(\"DataFrame shape after deleting NAs:\", ds_clean.shape)# TODO"
   ]
  },
  {
   "attachments": {},
   "cell_type": "markdown",
   "id": "middle-china",
   "metadata": {},
   "source": [
    "#### Exercise 07. Which is the mean of prices in the population (level5 column) of \"Arroyomolinos (Madrid)\"? (★★☆)\n",
    "\n",
    "Print the obtained value."
   ]
  },
  {
   "cell_type": "code",
   "execution_count": 29,
   "id": "nuclear-belief",
   "metadata": {},
   "outputs": [
    {
     "name": "stdout",
     "output_type": "stream",
     "text": [
      "Mean price for Arroyomolinos (Madrid): 294541.59854014596\n"
     ]
    }
   ],
   "source": [
    "import pandas as pd\n",
    "\n",
    "ds = pd.read_csv('assets/real_estate.csv', sep=';')\n",
    "\n",
    "data = ds[ds['level5'] == \"Arroyomolinos (Madrid)\"]\n",
    "\n",
    "mean_price = data['price'].mean()\n",
    "\n",
    "print(f\"Mean price for Arroyomolinos (Madrid): {mean_price}\")"
   ]
  },
  {
   "attachments": {},
   "cell_type": "markdown",
   "id": "concerned-radical",
   "metadata": {},
   "source": [
    "#### Exercise 08. Plot the histogram of prices for the population (level5 column) of \"Arroyomolinos (Madrid)\" and explain what you observe (★★☆)\n",
    "\n",
    "Print the histogram of the prices and write in the Markdown cell a brief analysis about the plot."
   ]
  },
  {
   "cell_type": "code",
   "execution_count": 30,
   "id": "sudden-message",
   "metadata": {},
   "outputs": [
    {
     "data": {
      "image/png": "[encoded data removed]",
      "text/plain": [
       "<Figure size 640x480 with 1 Axes>"
      ]
     },
     "metadata": {},
     "output_type": "display_data"
    }
   ],
   "source": [
    "import pandas as pd\n",
    "import matplotlib.pyplot as plt\n",
    "\n",
    "data = ds[ds['level5'] == \"Arroyomolinos (Madrid)\"] \n",
    "\n",
    "data = data.dropna(subset=['price']) \n",
    "\n",
    "plt.hist(data['price'], bins=20, edgecolor='black') \n",
    "\n",
    "plt.xlabel('Price')\n",
    "plt.ylabel('Frequency')\n",
    "plt.title('Histogram of Prices in Arroyomolinos (Madrid)')\n",
    "\n",
    "plt.show()"
   ]
  },
  {
   "attachments": {},
   "cell_type": "markdown",
   "id": "impressed-combination",
   "metadata": {},
   "source": [
    "**TODO: Markdown**. To write here, double-click on this cell, remove this content and place the text you want to write. Then, execute the cell."
   ]
  },
  {
   "attachments": {},
   "cell_type": "markdown",
   "id": "actual-edinburgh",
   "metadata": {},
   "source": [
    "#### Exercise 09. Are the average prices of \"Valdemorillo\" and \"Galapagar\" the same? (★★☆)\n",
    "\n",
    "Print both average prices and then write a conclusion about them."
   ]
  },
  {
   "cell_type": "code",
   "execution_count": 31,
   "id": "numeric-commerce",
   "metadata": {},
   "outputs": [
    {
     "name": "stdout",
     "output_type": "stream",
     "text": [
      "The average prices for both are not the same\n",
      "Average price in Valdemorillo: 363860.2931034483\n",
      "Average price in Galapagar: 360063.20238095237\n"
     ]
    }
   ],
   "source": [
    "import pandas as pd\n",
    "\n",
    "ds = pd.read_csv('assets/real_estate.csv', sep=';') \n",
    "\n",
    "data_valdemorillo = ds[ds['level5'] == \"Valdemorillo\"] \n",
    "average_price_valdemorillo = data_valdemorillo['price'].mean() \n",
    "\n",
    "data_galapagar = ds[ds['level5'] == \"Galapagar\"] \n",
    "average_price_galapagar = data_galapagar['price'].mean() \n",
    "\n",
    "if average_price_valdemorillo != average_price_galapagar:\n",
    "    print(\"The average prices for both are not the same\")\n",
    "\n",
    "print(f\"Average price in Valdemorillo: {average_price_valdemorillo}\")\n",
    "print(f\"Average price in Galapagar: {average_price_galapagar}\")"
   ]
  },
  {
   "attachments": {},
   "cell_type": "markdown",
   "id": "lonely-article",
   "metadata": {},
   "source": [
    "#### Exercise 10. Are the average prices per square meter (price/m2) of \"Valdemorillo\" and \"Galapagar\" the same? (★★☆)\n",
    "\n",
    "Print both average prices and then write a conclusion about it.\n",
    "\n",
    "Hint: Create a new column called `pps` (price per square meter) and then analyze the values."
   ]
  },
  {
   "cell_type": "code",
   "execution_count": 32,
   "id": "hourly-globe",
   "metadata": {},
   "outputs": [
    {
     "name": "stdout",
     "output_type": "stream",
     "text": [
      "Average price per square meter in Valdemorillo: 1137.62\n",
      "Average price per square meter in Galapagar: 1319.95\n",
      "The price per square meter of both populations is not the same.\n"
     ]
    }
   ],
   "source": [
    "import pandas as pd\n",
    "\n",
    "# Load the dataset\n",
    "ds = pd.read_csv('assets/real_estate.csv', sep=';')\n",
    "\n",
    "# Extract data for Valdemorillo\n",
    "data_valdemorillo = ds[ds['level5'] == \"Valdemorillo\"]\n",
    "\n",
    "# Calculate average price per square meter for Valdemorillo\n",
    "try:\n",
    "    average_price_per_m2_valdemorillo = data_valdemorillo['price'].sum() / data_valdemorillo['surface'].sum()\n",
    "except KeyError:\n",
    "    print(\"Error: 'surface' column not found in the DataFrame.\")\n",
    "    average_price_per_m2_valdemorillo = None\n",
    "\n",
    "# Extract data for Galapagar\n",
    "data_galapagar = ds[ds['level5'] == \"Galapagar\"]\n",
    "\n",
    "# Calculate average price per square meter for Galapagar\n",
    "try:\n",
    "    average_price_per_m2_galapagar = data_galapagar['price'].sum() / data_galapagar['surface'].sum()\n",
    "except KeyError:\n",
    "    print(\"Error: 'surface' column not found in the DataFrame.\")\n",
    "    average_price_per_m2_galapagar = None\n",
    "\n",
    "# Print the results\n",
    "if average_price_per_m2_valdemorillo is not None:\n",
    "    print(f\"Average price per square meter in Valdemorillo: {average_price_per_m2_valdemorillo:.2f}\") \n",
    "\n",
    "if average_price_per_m2_galapagar is not None:\n",
    "    print(f\"Average price per square meter in Galapagar: {average_price_per_m2_galapagar:.2f}\") \n",
    "\n",
    "# Check and print if the prices per square meter are different\n",
    "if average_price_per_m2_valdemorillo != average_price_per_m2_galapagar:\n",
    "    print(\"The price per square meter of both populations is not the same.\")"
   ]
  },
  {
   "attachments": {},
   "cell_type": "markdown",
   "id": "pleasant-invite",
   "metadata": {},
   "source": [
    "#### Exercise 11. Analyze the relation between the surface and the price of the houses (★★☆)\n",
    "\n",
    "Hint: You can make a `scatter plot`, then write a conclusion about it."
   ]
  },
  {
   "cell_type": "code",
   "execution_count": 33,
   "id": "common-drilling",
   "metadata": {},
   "outputs": [
    {
     "data": {
      "image/png": "[encoded data removed]",
      "text/plain": [
       "<Figure size 640x480 with 1 Axes>"
      ]
     },
     "metadata": {},
     "output_type": "display_data"
    },
    {
     "name": "stdout",
     "output_type": "stream",
     "text": [
      "Most houses of all highest to lowest prices, is within 25 000 meters in surface area\n"
     ]
    }
   ],
   "source": [
    "import pandas as pd\n",
    "import matplotlib.pyplot as plt\n",
    "\n",
    "ds = pd.read_csv('assets/real_estate.csv', sep=';')\n",
    "\n",
    "plt.scatter(ds['surface'], ds['price'])\n",
    "\n",
    "plt.xlabel('Surface Area')\n",
    "plt.ylabel('Price')\n",
    "plt.title('House Prices vs. Surface Area')\n",
    "\n",
    "plt.show()\n",
    "print(\"Most houses of all highest to lowest prices, is within 25 000 meters in surface area\")\n"
   ]
  },
  {
   "attachments": {},
   "cell_type": "markdown",
   "id": "ahead-liquid",
   "metadata": {},
   "source": [
    "**TODO: Markdown**. To write here, double-click on this cell, remove this content and place the text you want to write. Then, execute the cell."
   ]
  },
  {
   "attachments": {},
   "cell_type": "markdown",
   "id": "coordinate-sunrise",
   "metadata": {},
   "source": [
    "#### Exercise 12. How many real estate agencies does the dataset contain? (★★☆)\n",
    "\n",
    "Print the obtained value."
   ]
  },
  {
   "cell_type": "code",
   "execution_count": 34,
   "id": "valid-honolulu",
   "metadata": {},
   "outputs": [
    {
     "name": "stdout",
     "output_type": "stream",
     "text": [
      "There are: 1821 real estate agencies in the dataset.\n"
     ]
    }
   ],
   "source": [
    "import pandas as pd\n",
    "\n",
    "unique_count = ds['realEstate_name'].nunique()\n",
    "\n",
    "print(f\"There are: {unique_count} real estate agencies in the dataset.\")\n"
   ]
  },
  {
   "attachments": {},
   "cell_type": "markdown",
   "id": "binding-ebony",
   "metadata": {},
   "source": [
    "#### Exercise 13. Which is the population (level5 column) that contains the most houses? (★★☆)\n",
    "\n",
    "Print both the population and the number of houses."
   ]
  },
  {
   "cell_type": "code",
   "execution_count": 35,
   "id": "static-perry",
   "metadata": {},
   "outputs": [
    {
     "name": "stdout",
     "output_type": "stream",
     "text": [
      "level5\n",
      " Madrid Capital      6643\n",
      "Ajalvir                17\n",
      "Alcalá de Henares     525\n",
      "Alcobendas            259\n",
      "Alcorcón              190\n",
      "dtype: int64\n",
      " Madrid Capital\n",
      "6643\n",
      " Madrid Capital has 6643 houses in it, it has the most houses.\n"
     ]
    }
   ],
   "source": [
    "Population = ds.groupby('level5').size()\n",
    "\n",
    "print(Population.head())\n",
    "\n",
    "maxValueIndex = Population.idxmax()\n",
    "\n",
    "print(maxValueIndex)\n",
    "\n",
    "maxvalue = Population.max()\n",
    "\n",
    "print(maxvalue)\n",
    "\n",
    "print(f'{maxValueIndex} has {maxvalue} houses in it, it has the most houses.')\n",
    "\n",
    "\n",
    "\n",
    "\n"
   ]
  },
  {
   "attachments": {},
   "cell_type": "markdown",
   "id": "entire-classification",
   "metadata": {},
   "source": [
    "#### Exercise 14. Now let's work with the \"south belt\" of Madrid. Make a subset of the original DataFrame that contains the following populations (level5 column): \"Fuenlabrada\", \"Leganés\", \"Getafe\", \"Alcorcón\" (★★☆)\n",
    "\n",
    "Hint: Filter the original DataFrame using the column `level5` and the function `isin`."
   ]
  },
  {
   "cell_type": "code",
   "execution_count": 45,
   "id": "binary-input",
   "metadata": {},
   "outputs": [
    {
     "name": "stdout",
     "output_type": "stream",
     "text": [
      "       Unnamed: 0  id_realEstates  isNew  \\\n",
      "1               2       153867863  False   \n",
      "3               4       152776331  False   \n",
      "85             86       153152077  False   \n",
      "94             95       153995577  False   \n",
      "109           110       153586414  False   \n",
      "...           ...             ...    ...   \n",
      "15275       15276       153903887  False   \n",
      "15291       15292       151697757  False   \n",
      "15305       15306       153902389  False   \n",
      "15322       15323       153871864  False   \n",
      "15325       15326       153901467  False   \n",
      "\n",
      "                                 realEstate_name  phone_realEstate  \\\n",
      "1              tecnocasa fuenlabrada ferrocarril       916358736.0   \n",
      "3              tecnocasa fuenlabrada ferrocarril       916358736.0   \n",
      "85                       sinergical inmobiliaria               NaN   \n",
      "94                               viviendas365com       911226014.0   \n",
      "109              area uno asesores inmobiliarios       912664081.0   \n",
      "...                                          ...               ...   \n",
      "15275  aliseda servicios de gestion inmobiliaria       911368198.0   \n",
      "15291                                    unipiso       912788631.0   \n",
      "15305                             jadein ferrero       914871639.0   \n",
      "15322                          gestion comercial       911220662.0   \n",
      "15325                              montehogar 68       911790675.0   \n",
      "\n",
      "                                            url_inmueble  rooms  bathrooms  \\\n",
      "1      https://www.fotocasa.es/es/comprar/vivienda/ma...    3.0        1.0   \n",
      "3      https://www.fotocasa.es/es/comprar/vivienda/ma...    3.0        1.0   \n",
      "85     https://www.fotocasa.es/es/comprar/vivienda/le...    1.0        1.0   \n",
      "94     https://www.fotocasa.es/es/comprar/vivienda/le...    3.0        2.0   \n",
      "109    https://www.fotocasa.es/es/comprar/vivienda/ma...    3.0        3.0   \n",
      "...                                                  ...    ...        ...   \n",
      "15275  https://www.fotocasa.es/es/comprar/vivienda/al...    3.0        1.0   \n",
      "15291  https://www.fotocasa.es/es/comprar/vivienda/al...    3.0        2.0   \n",
      "15305  https://www.fotocasa.es/es/comprar/vivienda/ma...    3.0        2.0   \n",
      "15322  https://www.fotocasa.es/es/comprar/vivienda/ma...    3.0        1.0   \n",
      "15325  https://www.fotocasa.es/es/comprar/vivienda/ma...    2.0        2.0   \n",
      "\n",
      "       surface   price  ... level4Id level5Id level6Id level7Id level8Id  \\\n",
      "1          NaN   89000  ...        0        0        0        0        0   \n",
      "3         86.0   89000  ...        0        0        0        0        0   \n",
      "85        50.0  107000  ...        0        0        0        0        0   \n",
      "94       120.0  320000  ...        0        0        0        0        0   \n",
      "109      142.0  425000  ...        0        0        0        0        0   \n",
      "...        ...     ...  ...      ...      ...      ...      ...      ...   \n",
      "15275     78.0  138000  ...        0        0        0        0        0   \n",
      "15291    110.0  279000  ...        0        0        0        0        0   \n",
      "15305     85.0  170000  ...        0        0        0        0        0   \n",
      "15322     91.0  112000  ...        0        0        0        0        0   \n",
      "15325     99.0  215000  ...        0        0        0        0        0   \n",
      "\n",
      "      accuracy          latitude          longitude zipCode customZone  \n",
      "1            1          40,28674           -3,79351     NaN        NaN  \n",
      "3            0  40,2853785786438  -3,79508142135624     NaN        NaN  \n",
      "85           1          40,35059           -3,82693     NaN        NaN  \n",
      "94           0          40,31933           -3,77574     NaN        NaN  \n",
      "109          0        40,3313411         -3,8313868     NaN        NaN  \n",
      "...        ...               ...                ...     ...        ...  \n",
      "15275        1          40,31381           -3,83733     NaN        NaN  \n",
      "15291        0        40,3259051           -3,76318     NaN        NaN  \n",
      "15305        0        40,2882193         -3,8098617     NaN        NaN  \n",
      "15322        0          40,28282           -3,78892     NaN        NaN  \n",
      "15325        1          40,28062           -3,79869     NaN        NaN  \n",
      "\n",
      "[907 rows x 37 columns]\n"
     ]
    }
   ],
   "source": [
    "import pandas as pd\n",
    "\n",
    "ds = pd.read_csv('assets/real_estate.csv', sep=';')\n",
    "\n",
    "south_belt = ds[(ds['level5'] == 'Fuenlabrada') |  (ds['level5'] == 'Leganés') | (ds['level5'] == 'Getafe') | (ds['level5'] == 'Alcorcón')]\n",
    "\n",
    "print(south_belt)\n",
    "\n"
   ]
  },
  {
   "attachments": {},
   "cell_type": "markdown",
   "id": "severe-fisher",
   "metadata": {},
   "source": [
    "#### Exercise 15. Make a bar plot of the median of the prices and explain what you observe (you must use the subset obtained in Exercise 14) (★★★)\n",
    "\n",
    "Print the bar of the median of the prices and write in the Markdown cell a brief analysis about the plot."
   ]
  },
  {
   "cell_type": "code",
   "execution_count": 37,
   "id": "lyric-bunch",
   "metadata": {},
   "outputs": [
    {
     "name": "stdout",
     "output_type": "stream",
     "text": [
      "level5\n",
      "Alcorcón       179500.0\n",
      "Fuenlabrada    155000.0\n",
      "Getafe         285305.0\n",
      "Leganés        169950.0\n",
      "Name: price, dtype: float64\n"
     ]
    },
    {
     "data": {
      "image/png": "[encoded data removed]",
      "text/plain": [
       "<Figure size 640x480 with 1 Axes>"
      ]
     },
     "metadata": {},
     "output_type": "display_data"
    }
   ],
   "source": [
    "median_price_southBelt = south_belt.groupby('level5')[\"price\"].median()\n",
    "\n",
    "print(median_price_southBelt)\n",
    "\n",
    "median_price_southBelt.plot(kind=\"bar\") \n",
    "plt.title(\"Median Values by level5\") \n",
    "plt.xlabel(\"level5\") \n",
    "plt.ylabel(\"Median Price value\") \n",
    "plt.show() \n",
    "\n",
    "\n"
   ]
  },
  {
   "attachments": {},
   "cell_type": "markdown",
   "id": "sublime-newspaper",
   "metadata": {},
   "source": [
    "**TODO: Markdown**. To write here, double-click on this cell, remove this content and place the text you want to write. Then, execute the cell."
   ]
  },
  {
   "cell_type": "markdown",
   "id": "1f1e7e38",
   "metadata": {},
   "source": []
  },
  {
   "attachments": {},
   "cell_type": "markdown",
   "id": "speaking-diamond",
   "metadata": {},
   "source": [
    "#### Exercise 16. Calculate the sample mean and variance of the variables: price, rooms, surface area and bathrooms (you must use the subset obtained in Exercise 14) (★★★)\n",
    "\n",
    "Print both values for each variable."
   ]
  },
  {
   "cell_type": "code",
   "execution_count": 38,
   "id": "random-feeling",
   "metadata": {},
   "outputs": [
    {
     "name": "stdout",
     "output_type": "stream",
     "text": [
      "Mean:\n",
      "price        223094.480706\n",
      "rooms             3.017738\n",
      "surface         111.752224\n",
      "bathrooms         1.633222\n",
      "dtype: float64\n",
      "\n",
      "Variance:\n",
      "price        1.492137e+10\n",
      "rooms        7.188859e-01\n",
      "surface      4.263052e+03\n",
      "bathrooms    5.717969e-01\n",
      "dtype: float64\n"
     ]
    }
   ],
   "source": [
    "fred = south_belt[['price', 'rooms', 'surface', 'bathrooms']]\n",
    "\n",
    "print(\"Mean:\")\n",
    "print(fred.mean())\n",
    "\n",
    "print(\"\\nVariance:\")\n",
    "print(fred.var())\n",
    "\n",
    "\n",
    "\n",
    "\n",
    "\n",
    "\n",
    "\n"
   ]
  },
  {
   "attachments": {},
   "cell_type": "markdown",
   "id": "revolutionary-matrix",
   "metadata": {},
   "source": [
    "#### Exercise 17. What is the most expensive house in each population? You must use the subset obtained in Exercise 14 (★★☆)\n",
    "\n",
    "Print both the address and the price of the selected house of each population. You can print a DataFrame or a single line for each population."
   ]
  },
  {
   "cell_type": "code",
   "execution_count": 39,
   "id": "fifteen-browse",
   "metadata": {},
   "outputs": [
    {
     "data": {
      "text/html": [
       "<div>\n",
       "<style scoped>\n",
       "    .dataframe tbody tr th:only-of-type {\n",
       "        vertical-align: middle;\n",
       "    }\n",
       "\n",
       "    .dataframe tbody tr th {\n",
       "        vertical-align: top;\n",
       "    }\n",
       "\n",
       "    .dataframe thead th {\n",
       "        text-align: right;\n",
       "    }\n",
       "</style>\n",
       "<table border=\"1\" class=\"dataframe\">\n",
       "  <thead>\n",
       "    <tr style=\"text-align: right;\">\n",
       "      <th></th>\n",
       "      <th>price</th>\n",
       "      <th>level5</th>\n",
       "      <th>address</th>\n",
       "    </tr>\n",
       "  </thead>\n",
       "  <tbody>\n",
       "    <tr>\n",
       "      <th>5585</th>\n",
       "      <td>950000</td>\n",
       "      <td>Alcorcón</td>\n",
       "      <td>Alcorcón</td>\n",
       "    </tr>\n",
       "    <tr>\n",
       "      <th>11561</th>\n",
       "      <td>490000</td>\n",
       "      <td>Fuenlabrada</td>\n",
       "      <td>Calle de Paulo Freire, 5, Fuenlabrada</td>\n",
       "    </tr>\n",
       "    <tr>\n",
       "      <th>2881</th>\n",
       "      <td>1050000</td>\n",
       "      <td>Getafe</td>\n",
       "      <td>Getafe</td>\n",
       "    </tr>\n",
       "    <tr>\n",
       "      <th>10412</th>\n",
       "      <td>650000</td>\n",
       "      <td>Leganés</td>\n",
       "      <td>Avenida Reina Sofía, Leganés</td>\n",
       "    </tr>\n",
       "  </tbody>\n",
       "</table>\n",
       "</div>"
      ],
      "text/plain": [
       "         price       level5                                address\n",
       "5585    950000     Alcorcón                               Alcorcón\n",
       "11561   490000  Fuenlabrada  Calle de Paulo Freire, 5, Fuenlabrada\n",
       "2881   1050000       Getafe                                 Getafe\n",
       "10412   650000      Leganés           Avenida Reina Sofía, Leganés"
      ]
     },
     "execution_count": 39,
     "metadata": {},
     "output_type": "execute_result"
    }
   ],
   "source": [
    "south_belt.loc[south_belt.groupby('level5')['price'].idxmax()][['price', 'level5', 'address']]\n",
    "\n"
   ]
  },
  {
   "attachments": {},
   "cell_type": "markdown",
   "id": "activated-knight",
   "metadata": {},
   "source": [
    "#### Exercise 18. Normalize the variable of prices for each population and plot the 4 histograms in the same plot (you must use the subset obtained in Exercise 14) (★★★)\n",
    "\n",
    "For the normalization method, you can use the one you consider; there is not a single correct answer to this question. Print the plot and write in the Markdown cell a brief analysis about the plot.\n",
    "\n",
    "Hint: You can help yourself by reviewing the *multihist* demo of Matplotlib."
   ]
  },
  {
   "cell_type": "code",
   "execution_count": 40,
   "id": "civic-meditation",
   "metadata": {},
   "outputs": [
    {
     "data": {
      "image/png": "[encoded data removed]",
      "text/plain": [
       "<Figure size 640x480 with 4 Axes>"
      ]
     },
     "metadata": {},
     "output_type": "display_data"
    }
   ],
   "source": [
    "for population in south_belt:\n",
    "   \n",
    "    normalized_prices = south_belt.groupby('level5')['price'].apply(lambda x:(x - x.mean()) / x.std())\n",
    "\n",
    "\n",
    "normalized_Alcorcón=normalized_prices['Alcorcón']\n",
    "normalized_Fuenlabrada=normalized_prices['Fuenlabrada']\n",
    "normalized_Getafe=normalized_prices['Getafe']\n",
    "normalized_Leganés=normalized_prices['Leganés']\n",
    "\n",
    "f, axs = plt.subplots(2,2)\n",
    "axs[0,0].hist(normalized_Alcorcón)\n",
    "axs[1,0].hist(normalized_Fuenlabrada)\n",
    "axs[0,1].hist(normalized_Leganés)   \n",
    "axs[1,1].hist(normalized_Getafe)\n",
    "\n",
    "plt.show()\n"
   ]
  },
  {
   "attachments": {},
   "cell_type": "markdown",
   "id": "precise-heavy",
   "metadata": {},
   "source": [
    "**TODO: Markdown**. To write here, double-click on this cell, remove this content and place the text you want to write. Then, execute the cell."
   ]
  },
  {
   "attachments": {},
   "cell_type": "markdown",
   "id": "patent-jonathan",
   "metadata": {},
   "source": [
    "#### Exercise 19. What can you say about the price per square meter (price/m2) between the towns of \"Getafe\" and \"Alcorcón\"? You must use the subset obtained in Exercise 14 (★★☆)\n",
    "\n",
    "Hint: Create a new column called `pps` (price per square meter) and then analyze the values."
   ]
  },
  {
   "cell_type": "code",
   "execution_count": 69,
   "id": "initial-liverpool",
   "metadata": {},
   "outputs": [
    {
     "name": "stdout",
     "output_type": "stream",
     "text": [
      "The PPS for Alcorcon is; 2239.302480199618 and for Getafe is; 2066.314949251463, they are not equal.\n"
     ]
    }
   ],
   "source": [
    "south_belt['pps']=south_belt['price'] / south_belt['surface']\n",
    "\n",
    "#finding the mean of the price of pps of Getafe \n",
    "Getafe_mean = south_belt.loc[south_belt['level5'] =='Getafe', 'pps'].mean()\n",
    "\n",
    "\n",
    "Alcorcon_mean = south_belt.loc[south_belt['level5'] =='Alcorcón', 'pps'].mean()\n",
    "\n",
    "print(f\"The PPS for Alcorcon is; {Alcorcon_mean} and for Getafe is; {Getafe_mean}, they are not equal.\")\n",
    "\n"
   ]
  },
  {
   "attachments": {},
   "cell_type": "markdown",
   "id": "enhanced-moscow",
   "metadata": {},
   "source": [
    "#### Exercise 20. Make the same plot for 4 different populations (level5 column) and rearrange them on the same graph. You must use the subset obtained in Exercise 14 (★★☆)\n",
    " \n",
    "Hint: Make a scatter plot of each population using subplots."
   ]
  },
  {
   "cell_type": "code",
   "execution_count": 51,
   "id": "accepting-airfare",
   "metadata": {},
   "outputs": [
    {
     "data": {
      "image/png": "[encoded data removed]",
      "text/plain": [
       "<Figure size 640x480 with 4 Axes>"
      ]
     },
     "metadata": {},
     "output_type": "display_data"
    }
   ],
   "source": [
    "#name of places \"Getafe\" \"Fuenlabrada\", \"Leganes\", \"Alcoron\"\n",
    "\n",
    "s_Get = south_belt.loc[south_belt['level5'] =='Getafe']['surface']\n",
    "p_Get = south_belt.loc[south_belt['level5'] =='Getafe']['price']\n",
    "s_Fuen = south_belt.loc[south_belt['level5'] =='Fuenlabrada']['surface']\n",
    "p_Fuen = south_belt.loc[south_belt['level5'] =='Fuenlabrada']['price']\n",
    "s_Leg = south_belt.loc[south_belt['level5'] =='Leganés']['surface']\n",
    "p_Leg = south_belt.loc[south_belt['level5'] =='Leganés']['price']\n",
    "s_Alc= south_belt.loc[south_belt['level5'] =='Alcorcón']['surface']\n",
    "p_Alc = south_belt.loc[south_belt['level5'] =='Alcorcón']['price']\n",
    "\n",
    "\n",
    "\n",
    "f, axs = plt.subplots(2,2)\n",
    "axs[0,0].scatter(s_Get, p_Get)\n",
    "axs[1,0].scatter(s_Fuen, p_Fuen)\n",
    "axs[0,1].scatter(s_Leg, p_Leg)   \n",
    "axs[1,1].scatter(s_Alc, p_Alc)\n",
    "\n",
    "plt.show()\n",
    "\n",
    "\n"
   ]
  },
  {
   "attachments": {},
   "cell_type": "markdown",
   "id": "blocked-effects",
   "metadata": {},
   "source": [
    "#### Exercise 21. Make a plot of the coordinates (latitude and longitude columns) of the south belt of Madrid by color of each population (you must use the subset obtained in Exercise 14) (★★★★)\n",
    "\n",
    "Execute the following cell, and then start coding in the next one. You must implement a simple code that transforms the coordinates columns in a Python dictionary (add more information if needed) and then add it to the map"
   ]
  },
  {
   "cell_type": "code",
   "execution_count": 61,
   "id": "9d4a5eb9",
   "metadata": {},
   "outputs": [
    {
     "data": {
      "text/plain": [
       "1                40,28674\n",
       "3        40,2853785786438\n",
       "85               40,35059\n",
       "94               40,31933\n",
       "109            40,3313411\n",
       "               ...       \n",
       "15275            40,31381\n",
       "15291          40,3259051\n",
       "15305          40,2882193\n",
       "15322            40,28282\n",
       "15325            40,28062\n",
       "Name: latitude, Length: 907, dtype: object"
      ]
     },
     "execution_count": 61,
     "metadata": {},
     "output_type": "execute_result"
    }
   ],
   "source": [
    "south_belt['latitude']"
   ]
  },
  {
   "cell_type": "code",
   "execution_count": 62,
   "id": "0989adda",
   "metadata": {},
   "outputs": [
    {
     "data": {
      "text/plain": [
       "1                 -3,79351\n",
       "3        -3,79508142135624\n",
       "85                -3,82693\n",
       "94                -3,77574\n",
       "109             -3,8313868\n",
       "               ...        \n",
       "15275             -3,83733\n",
       "15291             -3,76318\n",
       "15305           -3,8098617\n",
       "15322             -3,78892\n",
       "15325             -3,79869\n",
       "Name: longitude, Length: 907, dtype: object"
      ]
     },
     "execution_count": 62,
     "metadata": {},
     "output_type": "execute_result"
    }
   ],
   "source": [
    "south_belt['longitude']"
   ]
  },
  {
   "cell_type": "code",
   "execution_count": 52,
   "id": "present-mistress",
   "metadata": {},
   "outputs": [
    {
     "data": {
      "application/vnd.jupyter.widget-view+json": {
       "model_id": "7ab538d782204cfbb4fd8349e0909b81",
       "version_major": 2,
       "version_minor": 0
      },
      "text/plain": [
       "Map(center=[40.32, -3.8], controls=(ZoomControl(options=['position', 'zoom_in_text', 'zoom_in_title', 'zoom_ou…"
      ]
     },
     "execution_count": 52,
     "metadata": {},
     "output_type": "execute_result"
    }
   ],
   "source": [
    "from ipyleaflet import Map, basemaps\n",
    "\n",
    "# Map centered on Madrid (40.4168° N, -3.7038° W)\n",
    "map = Map(\n",
    "    center=(40.32, -3.8),\n",
    "    zoom=12,  # Adjust zoom level for a closer view of Madrid\n",
    "    min_zoom=1,\n",
    "    max_zoom=20,\n",
    "    basemap=basemaps.OpenStreetMap.Mapnik\n",
    ")\n",
    "\n",
    "map\n"
   ]
  },
  {
   "cell_type": "code",
   "execution_count": 64,
   "id": "b9d94607",
   "metadata": {},
   "outputs": [
    {
     "name": "stderr",
     "output_type": "stream",
     "text": [
      "/tmp/ipykernel_1976/3014868825.py:5: SettingWithCopyWarning: \n",
      "A value is trying to be set on a copy of a slice from a DataFrame.\n",
      "Try using .loc[row_indexer,col_indexer] = value instead\n",
      "\n",
      "See the caveats in the documentation: https://pandas.pydata.org/pandas-docs/stable/user_guide/indexing.html#returning-a-view-versus-a-copy\n",
      "  subset_map_ds['latitude'] = subset_map_ds['latitude'].str.replace(',', '.')\n",
      "/tmp/ipykernel_1976/3014868825.py:6: SettingWithCopyWarning: \n",
      "A value is trying to be set on a copy of a slice from a DataFrame.\n",
      "Try using .loc[row_indexer,col_indexer] = value instead\n",
      "\n",
      "See the caveats in the documentation: https://pandas.pydata.org/pandas-docs/stable/user_guide/indexing.html#returning-a-view-versus-a-copy\n",
      "  subset_map_ds['longitude'] = subset_map_ds['longitude'].str.replace(',', '.')\n",
      "/tmp/ipykernel_1976/3014868825.py:9: SettingWithCopyWarning: \n",
      "A value is trying to be set on a copy of a slice from a DataFrame.\n",
      "Try using .loc[row_indexer,col_indexer] = value instead\n",
      "\n",
      "See the caveats in the documentation: https://pandas.pydata.org/pandas-docs/stable/user_guide/indexing.html#returning-a-view-versus-a-copy\n",
      "  subset_map_ds['latitude'] = subset_map_ds['latitude'].astype(float)\n",
      "/tmp/ipykernel_1976/3014868825.py:10: SettingWithCopyWarning: \n",
      "A value is trying to be set on a copy of a slice from a DataFrame.\n",
      "Try using .loc[row_indexer,col_indexer] = value instead\n",
      "\n",
      "See the caveats in the documentation: https://pandas.pydata.org/pandas-docs/stable/user_guide/indexing.html#returning-a-view-versus-a-copy\n",
      "  subset_map_ds['longitude'] = subset_map_ds['longitude'].astype(float)\n"
     ]
    }
   ],
   "source": [
    "# Select relevant columns\n",
    "subset_map_ds = south_belt[['level5', 'latitude', 'longitude']]\n",
    "\n",
    "# Replace commas with periods in the latitude and longitude columns\n",
    "subset_map_ds['latitude'] = subset_map_ds['latitude'].str.replace(',', '.')\n",
    "subset_map_ds['longitude'] = subset_map_ds['longitude'].str.replace(',', '.')\n",
    "\n",
    "# Convert latitude and longitude columns to float\n",
    "subset_map_ds['latitude'] = subset_map_ds['latitude'].astype(float)\n",
    "subset_map_ds['longitude'] = subset_map_ds['longitude'].astype(float)"
   ]
  }
 ],
 "metadata": {
  "kernelspec": {
   "display_name": "Python 3",
   "language": "python",
   "name": "python3"
  },
  "language_info": {
   "codemirror_mode": {
    "name": "ipython",
    "version": 3
   },
   "file_extension": ".py",
   "mimetype": "text/x-python",
   "name": "python",
   "nbconvert_exporter": "python",
   "pygments_lexer": "ipython3",
   "version": "3.11.4"
  }
 },
 "nbformat": 4,
 "nbformat_minor": 5
}
